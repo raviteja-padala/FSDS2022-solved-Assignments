{
 "cells": [
  {
   "cell_type": "code",
   "execution_count": null,
   "id": "ed2cd003",
   "metadata": {},
   "outputs": [],
   "source": [
    "1.\tWhy are functions advantageous to have in your programs?\n",
    "Answer: The main advantage of function is its reusability. A function once defined can be used over and over again.\n"
   ]
  },
  {
   "cell_type": "code",
   "execution_count": null,
   "id": "eff7811c",
   "metadata": {},
   "outputs": [],
   "source": [
    "2.\tWhen does the code in a function run?  When it's specified or when it's called?\n",
    "Answer: The code in the function runs when it is called.\n"
   ]
  },
  {
   "cell_type": "code",
   "execution_count": null,
   "id": "71b071c4",
   "metadata": {},
   "outputs": [],
   "source": [
    "3.\tWhat statement creates a function?\n",
    "Answer:  ‘def’ statement creates a function. def keyword followed by function name and ():   . Example: def test():\n"
   ]
  },
  {
   "cell_type": "code",
   "execution_count": null,
   "id": "d8a27fa7",
   "metadata": {},
   "outputs": [],
   "source": [
    "4.\tWhat is the difference between a function and a function call?\n",
    "Answer:   \n",
    "•\tA ‘function’ is used to define and declare the code in it.\n",
    "•\tA ‘function call’ is used to call the function for its execution. \n"
   ]
  },
  {
   "cell_type": "code",
   "execution_count": null,
   "id": "a9dd9a76",
   "metadata": {},
   "outputs": [],
   "source": [
    "5.\tHow many global scopes are there in a Python program? How many local scopes?\n",
    "Answer:  \n",
    "•\tThere's only one global Python scope per program execution. This global scope exists until the program terminates.\n",
    "•\tThere can be any number of Local variables inside a defined function. \n"
   ]
  },
  {
   "cell_type": "code",
   "execution_count": null,
   "id": "07c42c6f",
   "metadata": {},
   "outputs": [],
   "source": [
    "6.\tWhat happens to variables in a local scope when the function call returns?\n",
    "Answer: variables in a local scope remains till the function scope terminates. \n",
    "When the end of the scope of the variable is reached, the variable is de-allocated.\n"
   ]
  },
  {
   "cell_type": "code",
   "execution_count": null,
   "id": "947487be",
   "metadata": {},
   "outputs": [],
   "source": [
    "7.\tWhat is the concept of a return value? Is it possible to have a return value in an expression?\n",
    "Answer:  \n",
    "•\tA function takes arguments, performs operations, and returns a value. The value (value of the expression following the return keyword) that a function returns to the caller is generally known as the function's return value.\n",
    "•\tYes, it is possible to have a return value in an expression. The expression gets evaluated and then the function returns with the result.\n"
   ]
  },
  {
   "cell_type": "code",
   "execution_count": null,
   "id": "087cb741",
   "metadata": {},
   "outputs": [],
   "source": [
    "8.\tIf a function does not have a return statement, what is the return value of a call to that function?\n",
    "Answer:  If a function does not have any return statement, the return value of a call to that function is ‘None’. \n",
    "Regardless of how long the functions are, any function without an return statement, \n",
    "or one with a return statement without a return value, will return ‘None’.\n"
   ]
  },
  {
   "cell_type": "code",
   "execution_count": null,
   "id": "0e1c2248",
   "metadata": {},
   "outputs": [],
   "source": [
    "9.\tHow do you make a function variable refer to the global variable?\n",
    "Answer:  A function variable can referred to the global variable by using the key word ‘global’.\n"
   ]
  },
  {
   "cell_type": "code",
   "execution_count": null,
   "id": "77dcb3a8",
   "metadata": {},
   "outputs": [],
   "source": [
    "10.\tWhat is the data type of None?\n",
    "Answer: The data type of None is “None type”.\n",
    "The code ,  print(type(None) returns\n",
    "<class 'NoneType'>\n"
   ]
  },
  {
   "cell_type": "code",
   "execution_count": null,
   "id": "8392b614",
   "metadata": {},
   "outputs": [],
   "source": [
    "11.\tWhat does the sentence import areallyourpetsnamederic do?\n",
    "Answer:  ‘import areallyourpetsnamederic’ statement imports the module called areallyourpetsnamederic if there is any, or else ModuleNotFoundError: No module named 'areallyourpetsnamederic' will be displayed if there is no such module.\n"
   ]
  },
  {
   "cell_type": "code",
   "execution_count": null,
   "id": "d2a759d3",
   "metadata": {},
   "outputs": [],
   "source": [
    "12.\tIf you had a bacon() feature in a spam module, what would you call it after importing spam?\n",
    "Answer: The bacon() feature can be called using spam.bacon() after importing spam module.\n"
   ]
  },
  {
   "cell_type": "code",
   "execution_count": null,
   "id": "ef9640f0",
   "metadata": {},
   "outputs": [],
   "source": [
    "13.\tWhat can you do to save a programme from crashing if it encounters an error?\n",
    "Answer: Exception handling is used to save programme from crashing, and the error can be encountered using exception handling key words.\n"
   ]
  },
  {
   "cell_type": "code",
   "execution_count": null,
   "id": "c5b9d7ce",
   "metadata": {},
   "outputs": [],
   "source": [
    "14.\tWhat is the purpose of the try clause? What is the purpose of the except clause?\n",
    "Answer: First, the try clause is executed. If no exception occurs, the except clause is skipped and execution of the try statement is finished. If an exception occurs during execution of the try clause, the rest of the clause is skipped. Then, if its type matches the exception named after the except keyword, the except clause is executed, and then execution continues after the try/except block.\n"
   ]
  },
  {
   "cell_type": "code",
   "execution_count": null,
   "id": "9eb86be6",
   "metadata": {},
   "outputs": [],
   "source": []
  }
 ],
 "metadata": {
  "kernelspec": {
   "display_name": "Python 3 (ipykernel)",
   "language": "python",
   "name": "python3"
  },
  "language_info": {
   "codemirror_mode": {
    "name": "ipython",
    "version": 3
   },
   "file_extension": ".py",
   "mimetype": "text/x-python",
   "name": "python",
   "nbconvert_exporter": "python",
   "pygments_lexer": "ipython3",
   "version": "3.9.12"
  }
 },
 "nbformat": 4,
 "nbformat_minor": 5
}
