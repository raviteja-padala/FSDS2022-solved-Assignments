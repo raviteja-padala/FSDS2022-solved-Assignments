{
 "cells": [
  {
   "cell_type": "code",
   "execution_count": 6,
   "id": "cf812bb2",
   "metadata": {},
   "outputs": [
    {
     "name": "stdout",
     "output_type": "stream",
     "text": [
      "Enter number:7\n",
      "Factorial of 7 = 5040\n"
     ]
    }
   ],
   "source": [
    "#1.\tWrite a Python Program to Find the Factorial of a Number?\n",
    "\n",
    "#Factorial of a positive integer is the sum of multiplication of all the integers smaller than that positive integer. \n",
    "\n",
    "def find_factorial():\n",
    "    '''To find Factorial of a number'''\n",
    "    f = int(input(\"Enter number:\"))\n",
    "    a=1\n",
    "    for i in range (1,f+1):\n",
    "        a=a*i\n",
    "    print(\"Factorial of\",f,\"=\",a)\n",
    "\n",
    "find_factorial()"
   ]
  },
  {
   "cell_type": "code",
   "execution_count": 7,
   "id": "29b31041",
   "metadata": {},
   "outputs": [
    {
     "name": "stdout",
     "output_type": "stream",
     "text": [
      "Display multiplication table of? 2\n",
      "2 x 1 = 2\n",
      "2 x 2 = 4\n",
      "2 x 3 = 6\n",
      "2 x 4 = 8\n",
      "2 x 5 = 10\n",
      "2 x 6 = 12\n",
      "2 x 7 = 14\n",
      "2 x 8 = 16\n",
      "2 x 9 = 18\n",
      "2 x 10 = 20\n"
     ]
    }
   ],
   "source": [
    "#2.\tWrite a Python Program to Display the multiplication Table?\n",
    "\n",
    "# Multiplication table (from 1 to 10) in Python\n",
    "\n",
    "n = int(input(\"Display multiplication table of? \"))\n",
    "\n",
    "for i in range(1, 11):\n",
    "   print(n, 'x', i, '=', n*i)"
   ]
  },
  {
   "cell_type": "code",
   "execution_count": 22,
   "id": "a6c723f7",
   "metadata": {},
   "outputs": [
    {
     "name": "stdout",
     "output_type": "stream",
     "text": [
      "Enter number=10\n",
      "Fibonacci sequence upto 10 =\n",
      "1,1,2,3,5,8,13,21,34,55,"
     ]
    }
   ],
   "source": [
    "#3.\tWrite a Python Program to Print the Fibonacci sequence?\n",
    "\n",
    "#The Fibonacci sequence is, in which each number is the sum of the two preceding ones.\n",
    "\n",
    "def fibo():\n",
    "\n",
    "    fn = int(input(\"Enter number=\"))\n",
    "    print(\"Fibonacci sequence upto\", fn,\"=\")\n",
    "   \n",
    "    a=0\n",
    "    b=1\n",
    "    for i in range(0,fn):\n",
    "        a, b = b , a+b\n",
    "        print(a, end=\",\")\n",
    "        \n",
    "fibo()"
   ]
  },
  {
   "cell_type": "code",
   "execution_count": 73,
   "id": "23dadcf4",
   "metadata": {},
   "outputs": [
    {
     "name": "stdout",
     "output_type": "stream",
     "text": [
      "Enter a number: 125\n",
      "125 is not an Armstrong number\n"
     ]
    }
   ],
   "source": [
    "#4.\tWrite a Python Program to Check Armstrong Number?\n",
    "\n",
    "\n",
    "\n",
    "n = int(input(\"Enter a number: \"))\n",
    "\n",
    "s = 0\n",
    "t = n\n",
    "\n",
    "while t > 0:\n",
    "   digit = t % 10\n",
    "   s += digit ** 3\n",
    "   t //= 10\n",
    "\n",
    "if n == s:\n",
    "\n",
    "   print(n,\"is an Armstrong number\")\n",
    "\n",
    "else:\n",
    "\n",
    "   print(n,\"is not an Armstrong number\")\n"
   ]
  },
  {
   "cell_type": "code",
   "execution_count": 75,
   "id": "39504b37",
   "metadata": {},
   "outputs": [
    {
     "name": "stdout",
     "output_type": "stream",
     "text": [
      "Enter lower range: 100\n",
      "Enter upper range: 600\n",
      "153 370 371 407 "
     ]
    }
   ],
   "source": [
    "#5.\tWrite a Python Program to Find Armstrong Number in an Interval?\n",
    "\n",
    "lower = int(input(\"Enter lower range: \"))\n",
    "upper = int(input(\"Enter upper range: \"))\n",
    "\n",
    " \n",
    "for num in range(lower,upper + 1):\n",
    "   \n",
    "   sum = 0\n",
    " \n",
    "   temp = num\n",
    "    \n",
    "   while temp > 0:\n",
    "       digit = temp % 10\n",
    "       sum += digit ** 3\n",
    "       temp //= 10\n",
    " \n",
    "   if num == sum:\n",
    "       print(num, end=\" \")\n",
    "\n"
   ]
  },
  {
   "cell_type": "code",
   "execution_count": 57,
   "id": "315d9423",
   "metadata": {},
   "outputs": [
    {
     "name": "stdout",
     "output_type": "stream",
     "text": [
      "Enter a number:5\n",
      "sum of natural numbers upto 5 = 15\n"
     ]
    }
   ],
   "source": [
    "#6.\tWrite a Python Program to Find the Sum of Natural Numbers?\n",
    "#Natural numbers are a part of the number system, including all the positive integers from 1 to infinity.\n",
    "\n",
    "#using for loop\n",
    "def natural_num_sum():\n",
    "    number = int(input(\"Enter a number:\"))\n",
    "    a=0\n",
    "    if number > 0:\n",
    "        for i in range(1, number+1):\n",
    "            a=a+i\n",
    "    print(\"sum of natural numbers upto\", number, \"=\", a)\n",
    "        \n",
    "natural_num_sum()"
   ]
  },
  {
   "cell_type": "code",
   "execution_count": 46,
   "id": "ae214274",
   "metadata": {},
   "outputs": [
    {
     "name": "stdout",
     "output_type": "stream",
     "text": [
      "Enter a number:5\n",
      "The sum is 15\n"
     ]
    }
   ],
   "source": [
    "#using while loop\n",
    "\n",
    "num = int(input(\"Enter a number:\"))\n",
    "\n",
    "if num < 0:\n",
    "   print(\"Enter a positive number\")\n",
    "else:\n",
    "   sum = 0\n",
    "   while(num > 0):\n",
    "       sum += num\n",
    "       num -= 1\n",
    "   print(\"The sum is\", sum)"
   ]
  },
  {
   "cell_type": "code",
   "execution_count": null,
   "id": "09fc13de",
   "metadata": {},
   "outputs": [],
   "source": []
  }
 ],
 "metadata": {
  "kernelspec": {
   "display_name": "Python 3 (ipykernel)",
   "language": "python",
   "name": "python3"
  },
  "language_info": {
   "codemirror_mode": {
    "name": "ipython",
    "version": 3
   },
   "file_extension": ".py",
   "mimetype": "text/x-python",
   "name": "python",
   "nbconvert_exporter": "python",
   "pygments_lexer": "ipython3",
   "version": "3.9.12"
  }
 },
 "nbformat": 4,
 "nbformat_minor": 5
}
