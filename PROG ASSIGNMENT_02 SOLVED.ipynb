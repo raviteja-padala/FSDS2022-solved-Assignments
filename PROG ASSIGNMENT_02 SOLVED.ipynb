{
 "cells": [
  {
   "cell_type": "code",
   "execution_count": 2,
   "id": "1c024e1d",
   "metadata": {},
   "outputs": [
    {
     "name": "stdout",
     "output_type": "stream",
     "text": [
      "Enter Kilomenters=5\n",
      "5.0 kilometers= 3.106855 miles\n"
     ]
    }
   ],
   "source": [
    "#1.\tWrite a Python program to convert kilometers to miles?\n",
    "\n",
    "# 1 kilometer is equal to 0.621371 miles\n",
    "\n",
    "def convert():\n",
    "    km = float(input('Enter Kilomenters='))\n",
    "    m = km*0.621371\n",
    "    print (km,'kilometers=', m,'miles')\n",
    "\n",
    "convert()\n"
   ]
  },
  {
   "cell_type": "code",
   "execution_count": 6,
   "id": "48ed188c",
   "metadata": {},
   "outputs": [
    {
     "name": "stdout",
     "output_type": "stream",
     "text": [
      "Enter Celcius temparature:40\n",
      "40.0 degree Celsius is equal to 104.0 degree Fahrenheit\n"
     ]
    }
   ],
   "source": [
    "#2.\tWrite a Python program to convert Celsius to Fahrenheit?\n",
    "\n",
    "# To obtain Fahrenheit from Celsius , the formula is Fahrenheit = (Celsius * 9/5) + 32\n",
    "\n",
    "def convert_ctof():\n",
    "    c = float(input('Enter Celcius temparature:'))\n",
    "    f = c * 9/5 + 32\n",
    "    print(c ,'degree Celsius is equal to', f, 'degree Fahrenheit')\n",
    "    \n",
    "convert_ctof()"
   ]
  },
  {
   "cell_type": "code",
   "execution_count": 7,
   "id": "f1519db1",
   "metadata": {},
   "outputs": [
    {
     "name": "stdout",
     "output_type": "stream",
     "text": [
      "Enter year: 2022\n",
      "Enter month: 07\n",
      "     July 2022\n",
      "Mo Tu We Th Fr Sa Su\n",
      "             1  2  3\n",
      " 4  5  6  7  8  9 10\n",
      "11 12 13 14 15 16 17\n",
      "18 19 20 21 22 23 24\n",
      "25 26 27 28 29 30 31\n",
      "\n"
     ]
    }
   ],
   "source": [
    "#3.\tWrite a Python program to display calendar?\n",
    "\n",
    "#by importing calendar module and enter year and month values to display the calendar\n",
    "\n",
    "import calendar\n",
    "\n",
    "yy = int(input(\"Enter year: \"))\n",
    "mm = int(input(\"Enter month: \"))\n",
    "\n",
    "\n",
    "print(calendar.month(yy, mm))"
   ]
  },
  {
   "cell_type": "code",
   "execution_count": 12,
   "id": "01691954",
   "metadata": {},
   "outputs": [
    {
     "name": "stdout",
     "output_type": "stream",
     "text": [
      " Quadratic Equation: ax**2 + bx + c \n",
      "Enter a: 1\n",
      "Enter b: -5\n",
      "Enter c: 6\n",
      "The first root value is :  3.0\n",
      "The second root value is:  2.0\n"
     ]
    }
   ],
   "source": [
    "#4.\tWrite a Python program to solve quadratic equation?\n",
    "\n",
    "print(\" Quadratic Equation: ax**2 + bx + c \")\n",
    "\n",
    "a=int(input(\"Enter a: \"))\n",
    "b=int(input(\"Enter b: \"))\n",
    "c=int(input(\"Enter c: \"))\n",
    "\n",
    "d=b**2-4*a*c\n",
    "d1=d**0.5\n",
    "\n",
    "if(d<0):\n",
    "    print(\"The roots are imaginary. \")\n",
    "else:\n",
    "    r1=(-b+d1)/2*a\n",
    "    r2=(-b-d1)/2*a\n",
    "    print(\"The first root value is : \",round(r1,2))\n",
    "    print(\"The second root value is: \",round(r2,2))\n"
   ]
  },
  {
   "cell_type": "code",
   "execution_count": 11,
   "id": "4c43f0b2",
   "metadata": {},
   "outputs": [
    {
     "name": "stdout",
     "output_type": "stream",
     "text": [
      "value of a:1\n",
      "value of b:100\n",
      "Value of \"a\" after swap= 100\n",
      "Value of \"b\" after swap= 1\n"
     ]
    }
   ],
   "source": [
    "#5.\tWrite a Python program to swap two variables without temp variable?\n",
    "\n",
    "a = input('value of a:')\n",
    "b = input('value of b:')\n",
    "\n",
    "a, b = b, a\n",
    "\n",
    "print('Value of \"a\" after swap=', a)\n",
    "print('Value of \"b\" after swap=', b)"
   ]
  }
 ],
 "metadata": {
  "kernelspec": {
   "display_name": "Python 3 (ipykernel)",
   "language": "python",
   "name": "python3"
  },
  "language_info": {
   "codemirror_mode": {
    "name": "ipython",
    "version": 3
   },
   "file_extension": ".py",
   "mimetype": "text/x-python",
   "name": "python",
   "nbconvert_exporter": "python",
   "pygments_lexer": "ipython3",
   "version": "3.9.12"
  }
 },
 "nbformat": 4,
 "nbformat_minor": 5
}
