{
 "cells": [
  {
   "cell_type": "code",
   "execution_count": null,
   "id": "84ec08e7",
   "metadata": {},
   "outputs": [],
   "source": [
    "#1. \n",
    "What exactly is []?\n",
    "\n",
    "Answer: [] is an empty list. [] squared brackets are used to denote a list. "
   ]
  },
  {
   "cell_type": "code",
   "execution_count": 2,
   "id": "99a170f6",
   "metadata": {},
   "outputs": [],
   "source": [
    "#2. \n",
    "In a list of values stored in a variable called spam, how would you assign the value 'hello' as the third value? \n",
    "(Assume [2, 4, 6, 8, 10] are in spam.)"
   ]
  },
  {
   "cell_type": "code",
   "execution_count": 4,
   "id": "26a2b314",
   "metadata": {},
   "outputs": [
    {
     "name": "stdout",
     "output_type": "stream",
     "text": [
      "[2, 4, 'hello', 8, 10]\n"
     ]
    }
   ],
   "source": [
    "#2.\n",
    "#Answer: Thrid value in list [2, 4, 6, 8, 10] is index value at 2. \n",
    "    \n",
    "spam = [2, 4, 6, 8, 10]\n",
    "spam[2] = 'hello'\n",
    "print(spam)"
   ]
  },
  {
   "cell_type": "code",
   "execution_count": null,
   "id": "3a110294",
   "metadata": {},
   "outputs": [],
   "source": [
    "#3.\n",
    "What is the value of spam[int(int('3' * 2) / 11)]?\n",
    "Let's pretend the spam includes the list ['a', 'b', 'c', 'd'] "
   ]
  },
  {
   "cell_type": "code",
   "execution_count": 5,
   "id": "affc1734",
   "metadata": {},
   "outputs": [
    {
     "data": {
      "text/plain": [
       "'d'"
      ]
     },
     "execution_count": 5,
     "metadata": {},
     "output_type": "execute_result"
    }
   ],
   "source": [
    "#3.\n",
    "#Answer:\n",
    "\n",
    "spam = ['a', 'b', 'c', 'd'] \n",
    "\n",
    "spam[int(int('3' * 2) / 11)]\n",
    "\n",
    "#EXPLANATION: int('3' * 2) gives '33', as '3' is string. int(string(33)) is 33. 33/11 is 3. At index position 3 is 'd'."
   ]
  },
  {
   "cell_type": "code",
   "execution_count": null,
   "id": "e3f58994",
   "metadata": {},
   "outputs": [],
   "source": [
    "#4.\n",
    "What is the value of spam[-1]?\n",
    "spam = ['a', 'b', 'c', 'd'] "
   ]
  },
  {
   "cell_type": "code",
   "execution_count": 7,
   "id": "64bd4527",
   "metadata": {},
   "outputs": [
    {
     "data": {
      "text/plain": [
       "'d'"
      ]
     },
     "execution_count": 7,
     "metadata": {},
     "output_type": "execute_result"
    }
   ],
   "source": [
    "#4.\n",
    "#Answer:\n",
    "spam[-1]\n",
    "\n",
    "#EXPLANATION: negative indexing of list at -1 location is 'd'."
   ]
  },
  {
   "cell_type": "code",
   "execution_count": null,
   "id": "10b4b656",
   "metadata": {},
   "outputs": [],
   "source": [
    "#5. \n",
    "What is the value of spam[:2]?\n",
    "spam = ['a', 'b', 'c', 'd'] "
   ]
  },
  {
   "cell_type": "code",
   "execution_count": 8,
   "id": "3e8f735e",
   "metadata": {},
   "outputs": [
    {
     "data": {
      "text/plain": [
       "['a', 'b']"
      ]
     },
     "execution_count": 8,
     "metadata": {},
     "output_type": "execute_result"
    }
   ],
   "source": [
    "#5.\n",
    "#Answer:\n",
    "\n",
    "spam = ['a', 'b', 'c', 'd'] \n",
    "spam[:2]\n",
    "#EXPLANATION: [:2] in this slicing list will be extracted till index 2 but not include index 2 as it is outer bound value."
   ]
  },
  {
   "cell_type": "code",
   "execution_count": null,
   "id": "e469110a",
   "metadata": {},
   "outputs": [],
   "source": [
    "#6. \n",
    "What is the value of bacon.index('cat')?\n",
    "Let's pretend bacon has the list [3.14, 'cat,' 11, 'cat,' True] "
   ]
  },
  {
   "cell_type": "code",
   "execution_count": 10,
   "id": "e9b8a854",
   "metadata": {},
   "outputs": [
    {
     "data": {
      "text/plain": [
       "1"
      ]
     },
     "execution_count": 10,
     "metadata": {},
     "output_type": "execute_result"
    }
   ],
   "source": [
    "#6.\n",
    "#Answer:\n",
    "\n",
    "bacon = [3.14, 'cat', 11, 'cat', True] \n",
    "\n",
    "bacon.index('cat')"
   ]
  },
  {
   "cell_type": "code",
   "execution_count": null,
   "id": "19dbb922",
   "metadata": {},
   "outputs": [],
   "source": [
    "#7.\n",
    "How does bacon.append(99) change the look of the list value in bacon?\n",
    "bacon = [3.14, 'cat', 11, 'cat', True]"
   ]
  },
  {
   "cell_type": "code",
   "execution_count": 12,
   "id": "b9ced7a8",
   "metadata": {},
   "outputs": [
    {
     "name": "stdout",
     "output_type": "stream",
     "text": [
      "[3.14, 'cat', 11, 'cat', True, 99]\n"
     ]
    }
   ],
   "source": [
    "#7.\n",
    "#Answer:\n",
    "\n",
    "bacon = [3.14, 'cat', 11, 'cat', True]\n",
    "bacon.append(99)\n",
    "# append(99) adds 99 to the list at the end of the list.\n",
    "print(bacon)"
   ]
  },
  {
   "cell_type": "code",
   "execution_count": null,
   "id": "4e98ea4c",
   "metadata": {},
   "outputs": [],
   "source": [
    "#8. \n",
    "How does bacon.remove('cat') change the look of the list in bacon?\n",
    "\n",
    "bacon = [3.14, 'cat', 11, 'cat', True]"
   ]
  },
  {
   "cell_type": "code",
   "execution_count": 16,
   "id": "5ca536b2",
   "metadata": {},
   "outputs": [
    {
     "name": "stdout",
     "output_type": "stream",
     "text": [
      "[3.14, 11, 'cat', True]\n"
     ]
    }
   ],
   "source": [
    "#8.\n",
    "#Answer:\n",
    "bacon = [3.14, 'cat', 11, 'cat', True]\n",
    "\n",
    "bacon.remove('cat')\n",
    "\n",
    "print(bacon)"
   ]
  },
  {
   "cell_type": "code",
   "execution_count": null,
   "id": "bc5918fb",
   "metadata": {},
   "outputs": [],
   "source": [
    "#9. \n",
    "What are the list concatenation and list replication operators?\n",
    "#Answer:\n",
    "'+' is used for list concatination.\n",
    "'*' is used for list replication."
   ]
  },
  {
   "cell_type": "code",
   "execution_count": null,
   "id": "0207ee6e",
   "metadata": {},
   "outputs": [],
   "source": [
    "#10. \n",
    "What is difference between the list methods append() and insert()?\n",
    "\n",
    "#Answer:\n",
    "append() = Appends object to the end of the list.\n",
    "insert() = Inserts object at specified index."
   ]
  },
  {
   "cell_type": "code",
   "execution_count": null,
   "id": "26bf22d2",
   "metadata": {},
   "outputs": [],
   "source": [
    "#11. \n",
    "\n",
    "What are the two methods for removing items from a list?\n",
    "\n",
    "#Answer:\n",
    "The two methods for removing items from a list are pop() and remove()\n",
    "\n",
    "pop() : Remove and return item at index (default last)\n",
    "remove(): Remove first occurrence of value."
   ]
  },
  {
   "cell_type": "code",
   "execution_count": null,
   "id": "b593db96",
   "metadata": {},
   "outputs": [],
   "source": [
    "#12. \n",
    "Describe how list values and string values are identical.\n",
    "\n",
    "#Answer: \n",
    "Both lists and strings, have indexes and slices, be used in for loops, be concatenated or replicated.\n",
    "\n"
   ]
  },
  {
   "cell_type": "code",
   "execution_count": null,
   "id": "5b46b736",
   "metadata": {},
   "outputs": [],
   "source": [
    "#13. \n",
    "What's the difference between tuples and lists?\n",
    "\n",
    "#Answer: \n",
    "Keys differences are : \n",
    "Lists are surrounded by square brackets [] and Tuples are surrounded by parenthesis ().\n",
    "Lists are mutable and Tuples are Immutable.\n"
   ]
  },
  {
   "cell_type": "code",
   "execution_count": null,
   "id": "fd63f43b",
   "metadata": {},
   "outputs": [],
   "source": [
    "#14. \n",
    "How do you type a tuple value that only contains the integer 42?\n"
   ]
  },
  {
   "cell_type": "code",
   "execution_count": 38,
   "id": "27948a3f",
   "metadata": {},
   "outputs": [
    {
     "name": "stdout",
     "output_type": "stream",
     "text": [
      "Type of value (42) is: <class 'int'> \n",
      " Type of value (42,) is: <class 'tuple'>\n"
     ]
    }
   ],
   "source": [
    "#14.\n",
    "#Answer:\n",
    "\n",
    "#Tuple that contains integer 42 is typed as (42,)\n",
    "\n",
    "#example:\n",
    "value= (42)\n",
    "t =(42,)\n",
    "\n",
    "print('Type of value (42) is:', type(value),'\\n', 'Type of value (42,) is:', type(t)) "
   ]
  },
  {
   "cell_type": "code",
   "execution_count": null,
   "id": "b7414a7b",
   "metadata": {},
   "outputs": [],
   "source": [
    "#15. \n",
    "How do you get a list value's tuple form? How do you get a tuple value's list form?\n",
    "\n",
    "#Answer: \n",
    "By using tuple(list), and list(tuple).\n"
   ]
  },
  {
   "cell_type": "code",
   "execution_count": 40,
   "id": "edb43eb8",
   "metadata": {},
   "outputs": [
    {
     "name": "stdout",
     "output_type": "stream",
     "text": [
      "<class 'tuple'> <class 'list'>\n"
     ]
    }
   ],
   "source": [
    "#15.\n",
    "#Answer:\n",
    "\n",
    "#list\n",
    "l= [1,2,3]\n",
    "#tuple\n",
    "t = (1,2,3)\n",
    "\n",
    "l1= tuple(l)\n",
    "t1= list(t)\n",
    "\n",
    "print(type(l1), type(t1))"
   ]
  },
  {
   "cell_type": "code",
   "execution_count": null,
   "id": "10ec39c3",
   "metadata": {},
   "outputs": [],
   "source": [
    "#16. \n",
    "Variables that \"contain\" list values are not necessarily lists themselves. Instead, what do they contain?\n",
    "\n",
    "#Answer:\n",
    "\n",
    "Variables that contain list values are not necessarily lists themselves instead they contain reference of list."
   ]
  },
  {
   "cell_type": "code",
   "execution_count": null,
   "id": "3fa5964c",
   "metadata": {},
   "outputs": [],
   "source": [
    "#17. \n",
    "How do you distinguish between copy.copy() and copy.deepcopy()?\n",
    "\n",
    "#Answer:\n",
    "\n",
    "The copy.copy() function will do a shallow copy of a list, \n",
    "while the copy.deepcopy() function will do a deep copy of a list. \n",
    "\n",
    "Any chnages done to the old list using copy.copy() will change the old list alone but not the copied one, \n",
    "copy.deepcopy() chanegs both the old and new lists."
   ]
  }
 ],
 "metadata": {
  "kernelspec": {
   "display_name": "Python 3 (ipykernel)",
   "language": "python",
   "name": "python3"
  },
  "language_info": {
   "codemirror_mode": {
    "name": "ipython",
    "version": 3
   },
   "file_extension": ".py",
   "mimetype": "text/x-python",
   "name": "python",
   "nbconvert_exporter": "python",
   "pygments_lexer": "ipython3",
   "version": "3.9.12"
  }
 },
 "nbformat": 4,
 "nbformat_minor": 5
}
