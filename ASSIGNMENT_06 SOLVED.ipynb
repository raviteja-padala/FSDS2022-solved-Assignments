{
 "cells": [
  {
   "cell_type": "code",
   "execution_count": null,
   "id": "b37c56c5",
   "metadata": {},
   "outputs": [],
   "source": [
    "#1.\n",
    "What are escape characters, and how do you use them?\n",
    "\n",
    "Answer: \n",
    "Backslash \"\\\" is used as \"escape\" character in strings. \n",
    "It is used to represent certain special characters: \"\\t\" is a tab, \"\\n\" is a newline, etc."
   ]
  },
  {
   "cell_type": "code",
   "execution_count": null,
   "id": "473bdc5b",
   "metadata": {},
   "outputs": [],
   "source": [
    "#2. \n",
    "What do the escape characters n and t stand for?\n",
    "\n",
    "Answer: \n",
    "escape cahracter \"\\n\" is for newline, \"\\t\" is for tab."
   ]
  },
  {
   "cell_type": "code",
   "execution_count": null,
   "id": "a3e3d24f",
   "metadata": {},
   "outputs": [],
   "source": [
    "#3.\n",
    "What is the way to include backslash characters in a string?\n",
    "\n",
    "Answer:\n",
    "backslash characters can be included in string using escape cahracter \\\\ \n",
    "    "
   ]
  },
  {
   "cell_type": "code",
   "execution_count": null,
   "id": "a79e13cd",
   "metadata": {},
   "outputs": [],
   "source": [
    "#4.\n",
    "The string \"Howl's Moving Castle\" is a correct value. \n",
    "Why isn't the single quote character in the word Howl's not escaped a problem?\n",
    "\n",
    "Answer:\n",
    "The single quote in Howl's is fine because we have used \"double quotes\" to mark the beginning and end of the string."
   ]
  },
  {
   "cell_type": "code",
   "execution_count": null,
   "id": "5fcdc6e8",
   "metadata": {},
   "outputs": [],
   "source": [
    "#5.\n",
    "How do you write a string of newlines if you don't want to use the n character?\n",
    "\n",
    "Answer:\n",
    "Triple quotes are used to write newlines in string , with out using special character '\\n'."
   ]
  },
  {
   "cell_type": "code",
   "execution_count": 5,
   "id": "2742198a",
   "metadata": {},
   "outputs": [
    {
     "data": {
      "text/plain": [
       "'Triple quotes are used to write newlines in string , \\nwith out using \\nthe special character \\n.'"
      ]
     },
     "execution_count": 5,
     "metadata": {},
     "output_type": "execute_result"
    }
   ],
   "source": [
    "#5.Answer:\n",
    "\n",
    "'''Triple quotes are used to write newlines in string , \n",
    "with out using \n",
    "the special character \\n.'''"
   ]
  },
  {
   "cell_type": "code",
   "execution_count": null,
   "id": "e12d5b89",
   "metadata": {},
   "outputs": [],
   "source": [
    "#6.\n",
    " What are the values of the given expressions?\n",
    "'Hello, world!'[1]\n",
    "'Hello, world!'[0:5]\n",
    "'Hello, world!'[:5]\n",
    "'Hello, world!'[3:]\n",
    "\n",
    "\n",
    "Answer:\n",
    "'Hello, world!'[1] is 'e'\n",
    "'Hello, world!'[0:5] is 'Hello'\n",
    "'Hello, world!'[:5] is 'Hello'\n",
    "'Hello, world!'[3:] is 'lo, world!'"
   ]
  },
  {
   "cell_type": "code",
   "execution_count": 11,
   "id": "69b64bca",
   "metadata": {},
   "outputs": [
    {
     "name": "stdout",
     "output_type": "stream",
     "text": [
      "e\n",
      "Hello\n",
      "Hello\n",
      "lo, world!\n"
     ]
    }
   ],
   "source": [
    "#6.Answer:\n",
    "\n",
    "print('Hello, world!'[1]) \n",
    "print('Hello, world!'[0:5])\n",
    "print('Hello, world!'[:5])\n",
    "print('Hello, world!'[3:])"
   ]
  },
  {
   "cell_type": "code",
   "execution_count": null,
   "id": "ae8241b7",
   "metadata": {},
   "outputs": [],
   "source": [
    "#7.\n",
    "What are the values of the following expressions?\n",
    "'Hello'.upper()\n",
    "'Hello'.upper().isupper()\n",
    "'Hello'.upper().lower()\n"
   ]
  },
  {
   "cell_type": "code",
   "execution_count": 13,
   "id": "70f17048",
   "metadata": {},
   "outputs": [
    {
     "name": "stdout",
     "output_type": "stream",
     "text": [
      "HELLO\n",
      "True\n",
      "hello\n"
     ]
    }
   ],
   "source": [
    "#7.Answer:\n",
    "\n",
    "print('Hello'.upper())\n",
    "print('Hello'.upper().isupper())\n",
    "print('Hello'.upper().lower())"
   ]
  },
  {
   "cell_type": "code",
   "execution_count": null,
   "id": "0e01828e",
   "metadata": {},
   "outputs": [],
   "source": [
    "#8.\n",
    "What are the values of the following expressions?\n",
    "\n",
    "'Remember, remember, the fifth of July.'.split()\n",
    "'-'.join('There can only one.'.split())"
   ]
  },
  {
   "cell_type": "code",
   "execution_count": 15,
   "id": "30d240c8",
   "metadata": {},
   "outputs": [
    {
     "name": "stdout",
     "output_type": "stream",
     "text": [
      "['Remember,', 'remember,', 'the', 'fifth', 'of', 'July.']\n",
      "There-can-be-only-one.\n"
     ]
    }
   ],
   "source": [
    "#8.Answer:\n",
    "\n",
    "print('Remember, remember, the fifth of July.'.split())\n",
    "print('-'.join('There can be only one.'.split()))\n"
   ]
  },
  {
   "cell_type": "code",
   "execution_count": null,
   "id": "1184df90",
   "metadata": {},
   "outputs": [],
   "source": [
    "#9.\n",
    "What are the methods for right-justifying, left-justifying, and centering a string?\n",
    "\n",
    "Answer: \n",
    "method for right-justifying is rjust(), \n",
    "left-justifying is ljust(), and centering a string is center()."
   ]
  },
  {
   "cell_type": "code",
   "execution_count": null,
   "id": "5f1e2bb7",
   "metadata": {},
   "outputs": [],
   "source": [
    "#10.\n",
    "What is the best way to remove whitespace characters from the start or end?\n",
    "\n",
    "Answer:\n",
    "the best way to remove whitespace characters from the start or end is by using lstrip() and rstrip() methods."
   ]
  }
 ],
 "metadata": {
  "kernelspec": {
   "display_name": "Python 3 (ipykernel)",
   "language": "python",
   "name": "python3"
  },
  "language_info": {
   "codemirror_mode": {
    "name": "ipython",
    "version": 3
   },
   "file_extension": ".py",
   "mimetype": "text/x-python",
   "name": "python",
   "nbconvert_exporter": "python",
   "pygments_lexer": "ipython3",
   "version": "3.9.12"
  }
 },
 "nbformat": 4,
 "nbformat_minor": 5
}
