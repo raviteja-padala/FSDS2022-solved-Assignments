{
 "cells": [
  {
   "cell_type": "code",
   "execution_count": null,
   "id": "c55bd169",
   "metadata": {},
   "outputs": [],
   "source": [
    "#Question 1. \n",
    "In the below elements which of them are values or an expression? eg:- values can be integer or string and \n",
    "    expressions will be mathematical operators.\n",
    "* \n",
    "'hello'\n",
    "-87.8\n",
    "- \n",
    "/ \n",
    "+\t\n",
    "6 \n",
    "\n",
    "\n",
    "Answer: \n",
    "The below elements are values:\n",
    "•'hello'  :  String\n",
    "•-87.8    :  Float\n",
    "•6        :  Intiger\n",
    "    \n",
    "The below elements are expressions:\n",
    "•*\n",
    "•-\n",
    "•/\n",
    "•+\n"
   ]
  },
  {
   "cell_type": "code",
   "execution_count": null,
   "id": "7192fb6f",
   "metadata": {},
   "outputs": [],
   "source": [
    "#Question 2. \n",
    "What is the difference between string and variable?\n",
    "\n",
    "Answer: \n",
    "A string is a data type.\n",
    "A variable holds data for processing. \n",
    "\n",
    "Example:\n",
    "a = \"ineuron”\n",
    "In this example , a is variable that holds data and ’ineuron” is string, a data type.\n"
   ]
  },
  {
   "cell_type": "code",
   "execution_count": null,
   "id": "fcaeb07a",
   "metadata": {},
   "outputs": [],
   "source": [
    "#Question 3. \n",
    "Describe three different data types.\n",
    "\n",
    "Answer: \n",
    "Different data types:\n",
    "int: Holds numeric values.\n",
    "float: holds Floating integer values.\n",
    "list: holds multiples data types in a variable. [ ] used to enclose a list. \n",
    "tuple: holds multiples data types in a variable () used to enclose a Tuple.\n"
   ]
  },
  {
   "cell_type": "code",
   "execution_count": null,
   "id": "6ee49497",
   "metadata": {},
   "outputs": [],
   "source": [
    "#Question 4. \n",
    "What is an expression made up of? What do all expressions do?\n",
    "\n",
    "Answer: \n",
    "•Expression consists of an Operator, Operand, and mathematical expression to evaluate a value into result.\n",
    "•Expression evaluates value into result.\n",
    "Example:\n",
    "a = b+c is an expression, \n",
    "a is variable, \n",
    "b and c are operands,\n",
    " = is assignment operator, + is math operator\n"
   ]
  },
  {
   "cell_type": "code",
   "execution_count": null,
   "id": "dca25403",
   "metadata": {},
   "outputs": [],
   "source": [
    "#Question 5. \n",
    "This assignment statements, like spam = 10. What is the difference between an expression and a statement?\n",
    "\n",
    "Answer: \n",
    "•Statement represents an action or command. Like in spam = 10 is a statement. \n",
    "•Expression evaluates value into result."
   ]
  },
  {
   "cell_type": "code",
   "execution_count": null,
   "id": "b4579b23",
   "metadata": {},
   "outputs": [],
   "source": [
    "#Question 6. \n",
    "After running the following code, what does the variable bacon contain?\n",
    "bacon = 22\n",
    "bacon + 1\n",
    "\n",
    "Answer: \n",
    "After running the code, the variable bacon contains 22 value only.\n"
   ]
  },
  {
   "cell_type": "code",
   "execution_count": null,
   "id": "24d50103",
   "metadata": {},
   "outputs": [],
   "source": [
    "#Question 7. \n",
    "What should the values of the following two terms be?\n",
    "'spam' + 'spamspam'\n",
    "'spam' * 3\n",
    "\n",
    "Answer: \n",
    "'spam' + 'spamspam' :  'spamspamspam'  (Sting concatenation)\n",
    "'spam' * 3 : ‘spamspamspam'  (Sting multiplication)\n"
   ]
  },
  {
   "cell_type": "code",
   "execution_count": null,
   "id": "c1d47beb",
   "metadata": {},
   "outputs": [],
   "source": [
    "#Question 8. \n",
    "Why eggs is a valid variable name, while 100 is invalid?\n",
    "\n",
    "Answer:  \n",
    "Variables are always alphabetical and alphanumerical, but cannot be numerical.\n",
    "We can assign a value to the variable eggs, but not 100. Hence 100 is an invalid variable.\n"
   ]
  },
  {
   "cell_type": "code",
   "execution_count": null,
   "id": "3d7facb3",
   "metadata": {},
   "outputs": [],
   "source": [
    "#Question 9. \n",
    "What three functions can be used to get the integer, floating-point number, or string version of a value?\n",
    "\n",
    "Answer: \n",
    "Function used to get the integer value is int().\n",
    "Function used to get the floating-point number value is float().\n",
    "Function used to get the string value is str().\n"
   ]
  },
  {
   "cell_type": "code",
   "execution_count": null,
   "id": "1c54c4d2",
   "metadata": {},
   "outputs": [],
   "source": [
    "#Question 10. \n",
    "Why does this expression cause an error? How can you fix it?\n",
    "'I have eaten ' + 99 + ' burritos.'\n",
    "\n",
    "Answer: \n",
    "we can only concatenate str (not \"int\") to str.\n",
    "It can be fixed by typecasting 99 into string.\n",
    " 'I have eaten ' + '99' + ' burritos.'\n"
   ]
  },
  {
   "cell_type": "code",
   "execution_count": 1,
   "id": "df095c10",
   "metadata": {},
   "outputs": [
    {
     "data": {
      "text/plain": [
       "'I have eaten 99 burritos.'"
      ]
     },
     "execution_count": 1,
     "metadata": {},
     "output_type": "execute_result"
    }
   ],
   "source": [
    "'I have eaten ' + '99' + ' burritos.'"
   ]
  }
 ],
 "metadata": {
  "kernelspec": {
   "display_name": "Python 3 (ipykernel)",
   "language": "python",
   "name": "python3"
  },
  "language_info": {
   "codemirror_mode": {
    "name": "ipython",
    "version": 3
   },
   "file_extension": ".py",
   "mimetype": "text/x-python",
   "name": "python",
   "nbconvert_exporter": "python",
   "pygments_lexer": "ipython3",
   "version": "3.9.12"
  }
 },
 "nbformat": 4,
 "nbformat_minor": 5
}
