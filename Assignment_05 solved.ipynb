{
 "cells": [
  {
   "cell_type": "code",
   "execution_count": 3,
   "id": "808ff1f7",
   "metadata": {},
   "outputs": [],
   "source": [
    "#1. \n",
    "What does an empty dictionary's code look like?\n",
    "\n",
    "Answer: \n",
    "An empty dictionary looks like {}.\n"
   ]
  },
  {
   "cell_type": "code",
   "execution_count": 4,
   "id": "2ec3b26c",
   "metadata": {},
   "outputs": [
    {
     "data": {
      "text/plain": [
       "dict"
      ]
     },
     "execution_count": 4,
     "metadata": {},
     "output_type": "execute_result"
    }
   ],
   "source": [
    "#1.Answer: \n",
    "\n",
    "d={}\n",
    "type(d)"
   ]
  },
  {
   "cell_type": "code",
   "execution_count": null,
   "id": "a1513fb3",
   "metadata": {},
   "outputs": [],
   "source": [
    "#2. \n",
    "What is the value of a dictionary value with the key 'foo' and the value 42?\n",
    "\n",
    "Answer:\n",
    "value = {'foo': 42}"
   ]
  },
  {
   "cell_type": "code",
   "execution_count": null,
   "id": "ae217342",
   "metadata": {},
   "outputs": [],
   "source": [
    "#3. \n",
    "What is the most significant distinction between a dictionary and a list?\n",
    "\n",
    "Answer:\n",
    "The key difference is, data in dictionary has a 'key : value' pair, data in list is always in an ordered manner."
   ]
  },
  {
   "cell_type": "code",
   "execution_count": null,
   "id": "74608bde",
   "metadata": {},
   "outputs": [],
   "source": [
    "#4. \n",
    "What happens if you try to access spam['foo'] if spam is {'bar': 100}?\n",
    "\n",
    "Answer: \n",
    "The result will be KeyError: 'foo'"
   ]
  },
  {
   "cell_type": "code",
   "execution_count": 5,
   "id": "8e3a5841",
   "metadata": {},
   "outputs": [
    {
     "ename": "KeyError",
     "evalue": "'foo'",
     "output_type": "error",
     "traceback": [
      "\u001b[1;31m---------------------------------------------------------------------------\u001b[0m",
      "\u001b[1;31mKeyError\u001b[0m                                  Traceback (most recent call last)",
      "Input \u001b[1;32mIn [5]\u001b[0m, in \u001b[0;36m<cell line: 4>\u001b[1;34m()\u001b[0m\n\u001b[0;32m      1\u001b[0m \u001b[38;5;66;03m#4.Answer: \u001b[39;00m\n\u001b[0;32m      3\u001b[0m spam \u001b[38;5;241m=\u001b[39m {\u001b[38;5;124m'\u001b[39m\u001b[38;5;124mbar\u001b[39m\u001b[38;5;124m'\u001b[39m: \u001b[38;5;241m100\u001b[39m}\n\u001b[1;32m----> 4\u001b[0m \u001b[43mspam\u001b[49m\u001b[43m[\u001b[49m\u001b[38;5;124;43m'\u001b[39;49m\u001b[38;5;124;43mfoo\u001b[39;49m\u001b[38;5;124;43m'\u001b[39;49m\u001b[43m]\u001b[49m\n",
      "\u001b[1;31mKeyError\u001b[0m: 'foo'"
     ]
    }
   ],
   "source": [
    "#4.Answer: \n",
    "\n",
    "spam = {'bar': 100}\n",
    "spam['foo']"
   ]
  },
  {
   "cell_type": "code",
   "execution_count": null,
   "id": "dad9e5a2",
   "metadata": {},
   "outputs": [],
   "source": [
    "#5. \n",
    "If a dictionary is stored in spam, what is the difference between the expressions 'cat' in spam and 'cat' in spam.keys()?\n",
    "\n",
    "Answer: Result will be same for both, operator will search for 'cat' in spam"
   ]
  },
  {
   "cell_type": "code",
   "execution_count": 14,
   "id": "b5ae97bf",
   "metadata": {},
   "outputs": [
    {
     "data": {
      "text/plain": [
       "True"
      ]
     },
     "execution_count": 14,
     "metadata": {},
     "output_type": "execute_result"
    }
   ],
   "source": [
    "#5.Answer:\n",
    "\n",
    "spam = {'cat':'value'}\n",
    "\n",
    "'cat' in spam"
   ]
  },
  {
   "cell_type": "code",
   "execution_count": 13,
   "id": "5a7529bb",
   "metadata": {},
   "outputs": [
    {
     "data": {
      "text/plain": [
       "True"
      ]
     },
     "execution_count": 13,
     "metadata": {},
     "output_type": "execute_result"
    }
   ],
   "source": [
    "#5.Answer:\n",
    "\n",
    "spam = {'cat':'value'}\n",
    "\n",
    "'cat' in spam.keys()"
   ]
  },
  {
   "cell_type": "code",
   "execution_count": null,
   "id": "9d6e4594",
   "metadata": {},
   "outputs": [],
   "source": [
    "#6. \n",
    "If a dictionary is stored in spam, what is the difference between the expressions 'cat' in spam and 'cat' in spam.values()?\n",
    "\n",
    "Answer: 'cat' in spam checks whether there is a 'cat' key is in the dictionary, \n",
    "while 'cat' in spam.values() checks whether there is a value 'cat' in the dictionary spam."
   ]
  },
  {
   "cell_type": "code",
   "execution_count": 15,
   "id": "740a511d",
   "metadata": {},
   "outputs": [
    {
     "data": {
      "text/plain": [
       "True"
      ]
     },
     "execution_count": 15,
     "metadata": {},
     "output_type": "execute_result"
    }
   ],
   "source": [
    "#6.Answer:\n",
    "\n",
    "spam = {'cat':'value'}\n",
    "\n",
    "'cat' in spam"
   ]
  },
  {
   "cell_type": "code",
   "execution_count": 16,
   "id": "a4d1e670",
   "metadata": {},
   "outputs": [
    {
     "data": {
      "text/plain": [
       "False"
      ]
     },
     "execution_count": 16,
     "metadata": {},
     "output_type": "execute_result"
    }
   ],
   "source": [
    "#6.Answer:\n",
    "\n",
    "spam = {'cat':'value'}\n",
    "\n",
    "'cat' in spam.values()"
   ]
  },
  {
   "cell_type": "code",
   "execution_count": null,
   "id": "0da3c037",
   "metadata": {},
   "outputs": [],
   "source": [
    "#7. \n",
    "What is a shortcut for the following code?\n",
    "if 'color' not in spam:\n",
    "spam['color'] = 'black'\n",
    "\n",
    "Answer: The code will be:  spam.setdefault('color','black')\n",
    "spam.setdefault()\n",
    "Inserts key with a value of default if key is not in the dictionary."
   ]
  },
  {
   "cell_type": "code",
   "execution_count": 19,
   "id": "593b17e3",
   "metadata": {},
   "outputs": [
    {
     "name": "stdout",
     "output_type": "stream",
     "text": [
      "{'cat': 'value', 'color': 'black'}\n"
     ]
    }
   ],
   "source": [
    "#7.Answer:\n",
    "\n",
    "spam = {'cat':'value'}\n",
    "\n",
    "spam.setdefault('color','black')\n",
    "\n",
    "print(spam)"
   ]
  },
  {
   "cell_type": "code",
   "execution_count": null,
   "id": "d2851472",
   "metadata": {},
   "outputs": [],
   "source": [
    "#8. \n",
    "How do you \"pretty print\" dictionary values using which module and function?\n",
    "\n",
    "Answer: \n",
    "By importing module pprint, and using function pprint.pprint()\n"
   ]
  }
 ],
 "metadata": {
  "kernelspec": {
   "display_name": "Python 3 (ipykernel)",
   "language": "python",
   "name": "python3"
  },
  "language_info": {
   "codemirror_mode": {
    "name": "ipython",
    "version": 3
   },
   "file_extension": ".py",
   "mimetype": "text/x-python",
   "name": "python",
   "nbconvert_exporter": "python",
   "pygments_lexer": "ipython3",
   "version": "3.9.12"
  }
 },
 "nbformat": 4,
 "nbformat_minor": 5
}
