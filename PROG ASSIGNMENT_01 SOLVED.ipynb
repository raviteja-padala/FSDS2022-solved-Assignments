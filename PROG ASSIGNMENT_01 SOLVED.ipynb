{
 "cells": [
  {
   "cell_type": "code",
   "execution_count": 2,
   "id": "4f0c81a5",
   "metadata": {},
   "outputs": [
    {
     "data": {
      "text/plain": [
       "'Hello Python'"
      ]
     },
     "execution_count": 2,
     "metadata": {},
     "output_type": "execute_result"
    }
   ],
   "source": [
    "#1.\tWrite a Python program to print \"Hello Python\"?\n",
    "\n",
    "def hello():\n",
    "    return \"Hello Python\"\n",
    "\n",
    "hello()"
   ]
  },
  {
   "cell_type": "code",
   "execution_count": 10,
   "id": "00e912d7",
   "metadata": {},
   "outputs": [
    {
     "data": {
      "text/plain": [
       "('additino:', 19, 'Division:', 2.8)"
      ]
     },
     "execution_count": 10,
     "metadata": {},
     "output_type": "execute_result"
    }
   ],
   "source": [
    "#2.\tWrite a Python program to do arithmetical operations addition and division.?\n",
    "\n",
    "def arth(a,b):\n",
    "    x= a+b\n",
    "    y= a/b\n",
    "    return \"addition:\", x, 'Division:', y\n",
    "\n",
    "arth (14, 5)\n"
   ]
  },
  {
   "cell_type": "code",
   "execution_count": 13,
   "id": "1435810c",
   "metadata": {},
   "outputs": [
    {
     "name": "stdout",
     "output_type": "stream",
     "text": [
      "Base =7\n",
      "Height =8\n"
     ]
    },
    {
     "data": {
      "text/plain": [
       "('Area of triangle=', 28.0)"
      ]
     },
     "execution_count": 13,
     "metadata": {},
     "output_type": "execute_result"
    }
   ],
   "source": [
    "#3.\tWrite a Python program to find the area of a triangle?\n",
    "\n",
    "#he basic formula for the area of a triangle is equal to half the product of its base and height\n",
    "\n",
    "def area_triangle():\n",
    "    b= float(input('Base ='))\n",
    "    h= float(input('Height ='))\n",
    "    a = 1/2*b*h\n",
    "    return 'Area of triangle=', a\n",
    "\n",
    "\n",
    "area_triangle()\n"
   ]
  },
  {
   "cell_type": "code",
   "execution_count": 30,
   "id": "e0f116c4",
   "metadata": {},
   "outputs": [
    {
     "name": "stdout",
     "output_type": "stream",
     "text": [
      "Value of variable \"a\" after swapping= 22 \n",
      " Value of variable \"b\" after swapping= 1\n"
     ]
    }
   ],
   "source": [
    "#4.\tWrite a Python program to swap two variables?\n",
    "\n",
    "def swap():\n",
    "    a =1\n",
    "    b =22\n",
    "    a,b = b,a\n",
    "    print ('Value of variable \"a\" after swapping=', a , '\\n','Value of variable \"b\" after swapping=', b)\n",
    "           \n",
    "           \n",
    "swap()\n"
   ]
  },
  {
   "cell_type": "code",
   "execution_count": 28,
   "id": "6a5b448c",
   "metadata": {},
   "outputs": [
    {
     "name": "stdout",
     "output_type": "stream",
     "text": [
      "0.7720880633694782\n"
     ]
    }
   ],
   "source": [
    "#5.\tWrite a Python program to generate a random number?\n",
    "\n",
    "#importing random module and using random function\n",
    "\n",
    "import random\n",
    "x = random.random()\n",
    "print(x) "
   ]
  }
 ],
 "metadata": {
  "kernelspec": {
   "display_name": "Python 3 (ipykernel)",
   "language": "python",
   "name": "python3"
  },
  "language_info": {
   "codemirror_mode": {
    "name": "ipython",
    "version": 3
   },
   "file_extension": ".py",
   "mimetype": "text/x-python",
   "name": "python",
   "nbconvert_exporter": "python",
   "pygments_lexer": "ipython3",
   "version": "3.9.12"
  }
 },
 "nbformat": 4,
 "nbformat_minor": 5
}
