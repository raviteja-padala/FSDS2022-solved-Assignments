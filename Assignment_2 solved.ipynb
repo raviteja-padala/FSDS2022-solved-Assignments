{
 "cells": [
  {
   "cell_type": "code",
   "execution_count": null,
   "id": "d05e6573",
   "metadata": {},
   "outputs": [],
   "source": [
    "#Question 1.  \n",
    "What are the two values of the Boolean data type? How do you write them?\n",
    "\n",
    "Answer: \n",
    "The two values of the Boolean data type are: True, False.\n"
   ]
  },
  {
   "cell_type": "code",
   "execution_count": 5,
   "id": "e326170a",
   "metadata": {},
   "outputs": [
    {
     "name": "stdout",
     "output_type": "stream",
     "text": [
      "True False\n"
     ]
    }
   ],
   "source": [
    "# Question 1 :boolean values:\n",
    "Answer: \n",
    "a = True\n",
    "b = False\n",
    "print(a, b)"
   ]
  },
  {
   "cell_type": "code",
   "execution_count": 4,
   "id": "bc9fae05",
   "metadata": {},
   "outputs": [
    {
     "data": {
      "text/plain": [
       "bool"
      ]
     },
     "execution_count": 4,
     "metadata": {},
     "output_type": "execute_result"
    }
   ],
   "source": [
    "#Question 1: boolean values\n",
    "type(a)"
   ]
  },
  {
   "cell_type": "code",
   "execution_count": 9,
   "id": "2f4da7ff",
   "metadata": {},
   "outputs": [
    {
     "name": "stdout",
     "output_type": "stream",
     "text": [
      "the boolen value of a>b is False\n",
      "the boolen value of a==b is False\n",
      "the boolen value of a<b is True\n"
     ]
    }
   ],
   "source": [
    "#Question 1 :boolean values\n",
    "a=10\n",
    "b=20\n",
    "\n",
    "print('the boolen value of a>b is', a>b)\n",
    "print('the boolen value of a==b is', a==b)\n",
    "print('the boolen value of a<b is', a<b)"
   ]
  },
  {
   "cell_type": "code",
   "execution_count": null,
   "id": "636b34d9",
   "metadata": {},
   "outputs": [],
   "source": [
    "#Question 2. \n",
    "What are the three different types of Boolean operators?\n",
    "Answer: \n",
    "The three different types of Boolean operators are:  And , Or, Not\n"
   ]
  },
  {
   "cell_type": "code",
   "execution_count": null,
   "id": "0a57d762",
   "metadata": {},
   "outputs": [],
   "source": [
    "#Question 3. \n",
    "Make a list of each Boolean operator's truth tables (i.e. every possible combination of Boolean values for the operator and what it evaluate ).\n",
    "Answer: \n",
    "\n",
    "Truth Table for \"and\" Operation:\n",
    " A  \t  B \tA and B\n",
    "False\tFalse\tFalse\n",
    "True\tFalse\tFalse\n",
    "False\tTrue\tFalse\n",
    "True\tTrue\tTrue\n",
    "\n",
    "\n",
    "Truth Table for \"or\" Operation:\n",
    "  A \tB   \t A or B\n",
    "False\tFalse\tFalse\n",
    "True\tFalse\tTrue\n",
    "False\tTrue\tTrue\n",
    "True\tTrue\tTrue\n",
    "\n",
    "Truth Table for \"not\" Operation:\n",
    "  X \tnot X\n",
    "True\tFalse\n",
    "False\tTrue\n"
   ]
  },
  {
   "cell_type": "code",
   "execution_count": null,
   "id": "f2ae2202",
   "metadata": {},
   "outputs": [],
   "source": [
    "#Question 4. \n",
    "What are the values of the following expressions?\n",
    "(5 > 4) and (3 == 5)\n",
    "not (5 > 4)\n",
    "(5 > 4) or (3 == 5)\n",
    "not ((5 > 4) or (3 == 5))\n",
    "(True and True) and (True == False)\n",
    "(not False) or (not True)\t\n",
    "\n",
    "Answer: \n",
    "(5 > 4) and (3 == 5)  : False\n",
    "not (5 > 4) : False\n",
    "(5 > 4) or (3 == 5) : True\n",
    "not ((5 > 4) or (3 == 5)): False\n",
    "(True and True) and (True == False): False \n",
    "(not False) or (not True) :  True\n"
   ]
  },
  {
   "cell_type": "code",
   "execution_count": 26,
   "id": "bbde3437",
   "metadata": {},
   "outputs": [
    {
     "name": "stdout",
     "output_type": "stream",
     "text": [
      "Value for (5 > 4) and (3 == 5) is  False\n",
      "Value for not (5 > 4) is  False\n",
      "Value for (5 > 4) or (3 == 5) is  True\n",
      "Value for not ((5 > 4) or (3 == 5)) is  False\n",
      "Value for (True and True) and (True == False)) is  False\n",
      "Value for (not False) or (not True)) is  True\n"
     ]
    }
   ],
   "source": [
    "#Question 4 execution: \n",
    "print ('Value for (5 > 4) and (3 == 5) is ', (5 > 4) and (3 == 5))\n",
    "print ('Value for not (5 > 4) is ', not (5 > 4))\n",
    "print ('Value for (5 > 4) or (3 == 5) is ', (5 > 4) or (3 == 5))\n",
    "print ('Value for not ((5 > 4) or (3 == 5)) is ', not ((5 > 4) or (3 == 5)))\n",
    "print ('Value for (True and True) and (True == False)) is ', (True and True) and (True == False))\n",
    "print ('Value for (not False) or (not True)) is ', (not False) or (not True))"
   ]
  },
  {
   "cell_type": "code",
   "execution_count": null,
   "id": "700cc0e3",
   "metadata": {},
   "outputs": [],
   "source": [
    "#Question 5. \n",
    "What are the six comparison operators?\n",
    "Answer: \n",
    "Six comparison operators are as follows:\n",
    "•\tLess than ( < )\n",
    "•\tLess than or equal to (<=)\n",
    "•\tGreater than (>)\n",
    "•\tGreater than or equal to (>=)\n",
    "•\tEqual to ( == )\n",
    "•\tNot equal to (! = )\n"
   ]
  },
  {
   "cell_type": "code",
   "execution_count": null,
   "id": "368b8f74",
   "metadata": {},
   "outputs": [],
   "source": [
    "#Question 6. \n",
    "How do you tell the difference between the equal to and assignment operators? \n",
    "Describe a condition and when you would use one.\n",
    "Answer: \n",
    "Equal to (==) is a comparison operator, it is used to compare two values.\n",
    "(=) is an assignment operator, it is used to assign value to the variable.\n"
   ]
  },
  {
   "cell_type": "code",
   "execution_count": 28,
   "id": "3dc8c65e",
   "metadata": {},
   "outputs": [
    {
     "name": "stdout",
     "output_type": "stream",
     "text": [
      "ham\n",
      "spam\n",
      "spam\n"
     ]
    }
   ],
   "source": [
    "#Question 7. . \n",
    "\n",
    "Identify the three blocks in this code:\n",
    "Answer: \n",
    "The three blocks are if block, elif block, else block.\n",
    "    \n",
    "spam = 0\n",
    "if spam == 10:\n",
    "    print('eggs')\n",
    "elif spam > 5:\n",
    "    print('bacon')\n",
    "else:\n",
    "    print('ham')\n",
    "    print('spam')\n",
    "    print('spam')\n"
   ]
  },
  {
   "cell_type": "code",
   "execution_count": null,
   "id": "3a4d9c8c",
   "metadata": {},
   "outputs": [],
   "source": [
    "#Question 8.\n",
    "Write code that prints Hello if 1 is stored in spam, prints Howdy if 2 is stored in spam, and \n",
    "prints Greetings! if anything else is stored in spam."
   ]
  },
  {
   "cell_type": "code",
   "execution_count": 1,
   "id": "e6fce38a",
   "metadata": {},
   "outputs": [
    {
     "name": "stdout",
     "output_type": "stream",
     "text": [
      "Enter 1 for hello, 2 for howdy,  greetings! for anything else, the entered value is 1\n",
      "hello\n"
     ]
    }
   ],
   "source": [
    "#Question 8 execution:\n",
    "spam = input('Enter 1 for hello, 2 for howdy,  greetings! for anything else, the entered value is ' )\n",
    "\n",
    "if spam == '1':\n",
    "    print ('hello')\n",
    "elif spam == '2':\n",
    "    print ('howdy')\n",
    "else: \n",
    "    print ('greetings!')"
   ]
  },
  {
   "cell_type": "code",
   "execution_count": null,
   "id": "fd26b797",
   "metadata": {},
   "outputs": [],
   "source": [
    "#Question 9. \n",
    "If your programme is stuck in an endless loop, what keys you’ll press?\n",
    "Answer: \n",
    "Interrupt kernel and restart kernel is used if a programme is struck in endless loop.\n"
   ]
  },
  {
   "cell_type": "code",
   "execution_count": null,
   "id": "bccae5fd",
   "metadata": {},
   "outputs": [],
   "source": [
    "#Question 10. \n",
    "How can you tell the difference between break and continue?\n",
    "Answer: \n",
    "The break statement terminates the loop containing it.  \n",
    "\n",
    "n = [1, 2, 3, 4, 5]\n",
    "\n",
    "for i in n:\n",
    "    if i == 3:\n",
    "        break\n",
    "    print(i)\n",
    "\n",
    "output: \n",
    "1\n",
    "2\n",
    " \n",
    "The continue statement is used to skip the code inside a loop for the current iteration only. \n",
    "Loop does not terminate but continues on with next iteration.\n",
    "\n",
    "n = [1, 2, 3, 4, 5]\n",
    "\n",
    "for i in n:\n",
    "    if i == 3:\n",
    "        continue\n",
    "    print(i)\n",
    "output: \n",
    "1\n",
    "2\n",
    "4\n",
    "5 \n",
    "\n"
   ]
  },
  {
   "cell_type": "code",
   "execution_count": 30,
   "id": "5230341c",
   "metadata": {},
   "outputs": [
    {
     "name": "stdout",
     "output_type": "stream",
     "text": [
      "1\n",
      "2\n"
     ]
    }
   ],
   "source": [
    "#Question 10 execution using break in loop:\n",
    "\n",
    "n = [1, 2, 3, 4, 5]\n",
    "\n",
    "for i in n:\n",
    "    if i == 3:\n",
    "        break\n",
    "    print(i)\n"
   ]
  },
  {
   "cell_type": "code",
   "execution_count": 31,
   "id": "9d8dc0c7",
   "metadata": {},
   "outputs": [
    {
     "name": "stdout",
     "output_type": "stream",
     "text": [
      "1\n",
      "2\n",
      "4\n",
      "5\n"
     ]
    }
   ],
   "source": [
    "#Question 10 execution using continue in loop:\n",
    "\n",
    "n = [1, 2, 3, 4, 5]\n",
    "\n",
    "for i in n:\n",
    "    if i == 3:\n",
    "        continue\n",
    "    print(i)\n"
   ]
  },
  {
   "cell_type": "code",
   "execution_count": null,
   "id": "12f56a88",
   "metadata": {},
   "outputs": [],
   "source": [
    "#Question 11. \n",
    "In a for loop, what is the difference between range(10), range(0, 10), and range(0, 10, 1)?\n",
    "\n",
    "Answer: \n",
    "range (10) : range(stop value by default)\n",
    "range(0, 10): range (start , stop value)\n",
    "range(0, 10, 1): range(start, stop, step value)\n",
    "    \n",
    "Output of all the above three values is range (0, 10)\n"
   ]
  },
  {
   "cell_type": "code",
   "execution_count": 34,
   "id": "ea3ce696",
   "metadata": {},
   "outputs": [
    {
     "name": "stdout",
     "output_type": "stream",
     "text": [
      "range(0, 10) range(0, 10) range(0, 10)\n"
     ]
    }
   ],
   "source": [
    "#Question 11 excution\n",
    "print(range(10), range(0,10), range(0,10,1))"
   ]
  },
  {
   "cell_type": "code",
   "execution_count": null,
   "id": "0fd585d8",
   "metadata": {},
   "outputs": [],
   "source": [
    "#Question 12. \n",
    "Write a short program that prints the numbers 1 to 10 using a for loop. \n",
    "Then write an equivalent program that prints the numbers 1 to 10 using a while loop."
   ]
  },
  {
   "cell_type": "code",
   "execution_count": 39,
   "id": "7c010a45",
   "metadata": {},
   "outputs": [
    {
     "name": "stdout",
     "output_type": "stream",
     "text": [
      "1 2 3 4 5 6 7 8 9 10 "
     ]
    }
   ],
   "source": [
    "#Question 12 excution using for loop:\n",
    "\n",
    "a =1\n",
    "b=10\n",
    "for i in range(a, b+1):\n",
    "    print(i, end=\" \")"
   ]
  },
  {
   "cell_type": "code",
   "execution_count": 43,
   "id": "e002a989",
   "metadata": {},
   "outputs": [
    {
     "name": "stdout",
     "output_type": "stream",
     "text": [
      "1 2 3 4 5 6 7 8 9 10 "
     ]
    }
   ],
   "source": [
    "#Question 12 excution using While loop:\n",
    "\n",
    "a =1\n",
    "b=10\n",
    "while a<=b:\n",
    "    print (a, end= ' ')\n",
    "    a+= 1"
   ]
  },
  {
   "cell_type": "code",
   "execution_count": null,
   "id": "ba72f3f6",
   "metadata": {},
   "outputs": [],
   "source": [
    "#Question 13. \n",
    "If you had a function named bacon() inside a module named spam, how would you call it after importing spam?\n",
    "\n",
    "Answer:\n",
    "    \n",
    "import spam\n",
    "spam.bacon()\n"
   ]
  }
 ],
 "metadata": {
  "kernelspec": {
   "display_name": "Python 3 (ipykernel)",
   "language": "python",
   "name": "python3"
  },
  "language_info": {
   "codemirror_mode": {
    "name": "ipython",
    "version": 3
   },
   "file_extension": ".py",
   "mimetype": "text/x-python",
   "name": "python",
   "nbconvert_exporter": "python",
   "pygments_lexer": "ipython3",
   "version": "3.9.12"
  }
 },
 "nbformat": 4,
 "nbformat_minor": 5
}
